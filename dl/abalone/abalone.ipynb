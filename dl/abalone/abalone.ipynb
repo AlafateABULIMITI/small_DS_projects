{
 "cells": [
  {
   "cell_type": "code",
   "execution_count": 1,
   "metadata": {},
   "outputs": [
    {
     "name": "stdout",
     "output_type": "stream",
     "text": [
      "2.2.0\n"
     ]
    }
   ],
   "source": [
    "# import the packages\n",
    "\n",
    "import numpy as np\n",
    "import pandas as pd # data processing, CSV file I/O (e.g. pd.read_csv)\n",
    "from sklearn.preprocessing import MinMaxScaler # normalization \n",
    "from sklearn.model_selection import train_test_split # split the data\n",
    "import seaborn as sns # draw the graph\n",
    "# neural network model construction\n",
    "import tensorflow as tf\n",
    "from tensorflow import keras\n",
    "from tensorflow.keras import Sequential\n",
    "from tensorflow.keras.layers import Dense\n",
    "\n",
    "import matplotlib.pyplot as plt # draw the graph\n",
    "\n",
    "# version check\n",
    "print(tf.__version__)"
   ]
  },
  {
   "cell_type": "code",
   "execution_count": 2,
   "metadata": {},
   "outputs": [
    {
     "data": {
      "text/html": [
       "<div>\n",
       "<style scoped>\n",
       "    .dataframe tbody tr th:only-of-type {\n",
       "        vertical-align: middle;\n",
       "    }\n",
       "\n",
       "    .dataframe tbody tr th {\n",
       "        vertical-align: top;\n",
       "    }\n",
       "\n",
       "    .dataframe thead th {\n",
       "        text-align: right;\n",
       "    }\n",
       "</style>\n",
       "<table border=\"1\" class=\"dataframe\">\n",
       "  <thead>\n",
       "    <tr style=\"text-align: right;\">\n",
       "      <th></th>\n",
       "      <th>Sex</th>\n",
       "      <th>Length</th>\n",
       "      <th>Diameter</th>\n",
       "      <th>Height</th>\n",
       "      <th>Whole weight</th>\n",
       "      <th>Shucked weight</th>\n",
       "      <th>Viscera weight</th>\n",
       "      <th>Shell weight</th>\n",
       "      <th>Rings</th>\n",
       "    </tr>\n",
       "  </thead>\n",
       "  <tbody>\n",
       "    <tr>\n",
       "      <th>0</th>\n",
       "      <td>M</td>\n",
       "      <td>0.455</td>\n",
       "      <td>0.365</td>\n",
       "      <td>0.095</td>\n",
       "      <td>0.5140</td>\n",
       "      <td>0.2245</td>\n",
       "      <td>0.1010</td>\n",
       "      <td>0.150</td>\n",
       "      <td>15</td>\n",
       "    </tr>\n",
       "    <tr>\n",
       "      <th>1</th>\n",
       "      <td>M</td>\n",
       "      <td>0.350</td>\n",
       "      <td>0.265</td>\n",
       "      <td>0.090</td>\n",
       "      <td>0.2255</td>\n",
       "      <td>0.0995</td>\n",
       "      <td>0.0485</td>\n",
       "      <td>0.070</td>\n",
       "      <td>7</td>\n",
       "    </tr>\n",
       "    <tr>\n",
       "      <th>2</th>\n",
       "      <td>F</td>\n",
       "      <td>0.530</td>\n",
       "      <td>0.420</td>\n",
       "      <td>0.135</td>\n",
       "      <td>0.6770</td>\n",
       "      <td>0.2565</td>\n",
       "      <td>0.1415</td>\n",
       "      <td>0.210</td>\n",
       "      <td>9</td>\n",
       "    </tr>\n",
       "    <tr>\n",
       "      <th>3</th>\n",
       "      <td>M</td>\n",
       "      <td>0.440</td>\n",
       "      <td>0.365</td>\n",
       "      <td>0.125</td>\n",
       "      <td>0.5160</td>\n",
       "      <td>0.2155</td>\n",
       "      <td>0.1140</td>\n",
       "      <td>0.155</td>\n",
       "      <td>10</td>\n",
       "    </tr>\n",
       "    <tr>\n",
       "      <th>4</th>\n",
       "      <td>I</td>\n",
       "      <td>0.330</td>\n",
       "      <td>0.255</td>\n",
       "      <td>0.080</td>\n",
       "      <td>0.2050</td>\n",
       "      <td>0.0895</td>\n",
       "      <td>0.0395</td>\n",
       "      <td>0.055</td>\n",
       "      <td>7</td>\n",
       "    </tr>\n",
       "  </tbody>\n",
       "</table>\n",
       "</div>"
      ],
      "text/plain": [
       "  Sex  Length  Diameter  Height  Whole weight  Shucked weight  Viscera weight  \\\n",
       "0   M   0.455     0.365   0.095        0.5140          0.2245          0.1010   \n",
       "1   M   0.350     0.265   0.090        0.2255          0.0995          0.0485   \n",
       "2   F   0.530     0.420   0.135        0.6770          0.2565          0.1415   \n",
       "3   M   0.440     0.365   0.125        0.5160          0.2155          0.1140   \n",
       "4   I   0.330     0.255   0.080        0.2050          0.0895          0.0395   \n",
       "\n",
       "   Shell weight  Rings  \n",
       "0         0.150     15  \n",
       "1         0.070      7  \n",
       "2         0.210      9  \n",
       "3         0.155     10  \n",
       "4         0.055      7  "
      ]
     },
     "execution_count": 2,
     "metadata": {},
     "output_type": "execute_result"
    }
   ],
   "source": [
    "# read the file \n",
    "dataset = pd.read_csv('abalone.csv')\n",
    "dataset.head()"
   ]
  },
  {
   "cell_type": "code",
   "execution_count": 3,
   "metadata": {},
   "outputs": [
    {
     "name": "stdout",
     "output_type": "stream",
     "text": [
      "<class 'pandas.core.frame.DataFrame'>\n",
      "RangeIndex: 4177 entries, 0 to 4176\n",
      "Data columns (total 9 columns):\n",
      " #   Column          Non-Null Count  Dtype  \n",
      "---  ------          --------------  -----  \n",
      " 0   Sex             4177 non-null   object \n",
      " 1   Length          4177 non-null   float64\n",
      " 2   Diameter        4177 non-null   float64\n",
      " 3   Height          4177 non-null   float64\n",
      " 4   Whole weight    4177 non-null   float64\n",
      " 5   Shucked weight  4177 non-null   float64\n",
      " 6   Viscera weight  4177 non-null   float64\n",
      " 7   Shell weight    4177 non-null   float64\n",
      " 8   Rings           4177 non-null   int64  \n",
      "dtypes: float64(7), int64(1), object(1)\n",
      "memory usage: 293.8+ KB\n"
     ]
    }
   ],
   "source": [
    "# basic informations\n",
    "dataset.info()"
   ]
  },
  {
   "cell_type": "code",
   "execution_count": 4,
   "metadata": {},
   "outputs": [
    {
     "data": {
      "text/plain": [
       "count     4177\n",
       "unique       3\n",
       "top          M\n",
       "freq      1528\n",
       "Name: Sex, dtype: object"
      ]
     },
     "execution_count": 4,
     "metadata": {},
     "output_type": "execute_result"
    }
   ],
   "source": [
    "# single variable analysis\n",
    "dataset.Sex.describe()"
   ]
  },
  {
   "cell_type": "code",
   "execution_count": 5,
   "metadata": {},
   "outputs": [
    {
     "data": {
      "text/plain": [
       "F    0.312904\n",
       "I    0.321283\n",
       "M    0.365813\n",
       "Name: Sex, dtype: float64"
      ]
     },
     "execution_count": 5,
     "metadata": {},
     "output_type": "execute_result"
    }
   ],
   "source": [
    "dataset.Sex.value_counts(normalize=True).sort_index()"
   ]
  },
  {
   "cell_type": "code",
   "execution_count": 6,
   "metadata": {},
   "outputs": [
    {
     "data": {
      "image/png": "[encoded data removed]",
      "text/plain": [
       "<Figure size 720x432 with 1 Axes>"
      ]
     },
     "metadata": {
      "needs_background": "light"
     },
     "output_type": "display_data"
    }
   ],
   "source": [
    "# using relative density to get a sense of their differences.\n",
    "\n",
    "df_sex_category = dataset.Sex.value_counts(normalize=True).sort_index()\n",
    "x = range(len(df_sex_category))\n",
    "figure = plt.figure(figsize=(10, 6))\n",
    "axes1 = figure.add_subplot(1, 2, 1)\n",
    "axes1.bar(x, df_sex_category, color=\"steelblue\",align=\"center\")\n",
    "axes1.set_xticks(x)\n",
    "# Set x axis tick labels\n",
    "axes1.set_xticklabels(df_sex_category.axes[0])\n",
    "# Set x and y axis chart label\n",
    "axes1.set_title(\"Sex Categories\")\n",
    "axes1.set_ylabel(\"Density\")\n",
    "axes1.xaxis.grid(False)\n",
    "# Remove all of the axis tick marks\n",
    "axes1.tick_params(bottom=False, top=False, left=False, right=False)\n",
    "# Hide all of the spines\n",
    "for spine in axes1.spines.values():\n",
    "    spine.set_visible(False)\n",
    "axes1.yaxis.grid(b=True, which=\"major\")"
   ]
  },
  {
   "cell_type": "code",
   "execution_count": 7,
   "metadata": {},
   "outputs": [
    {
     "data": {
      "text/plain": [
       "count    4177.000000\n",
       "mean        9.933684\n",
       "std         3.224169\n",
       "min         1.000000\n",
       "25%         8.000000\n",
       "50%         9.000000\n",
       "75%        11.000000\n",
       "max        29.000000\n",
       "Name: Rings, dtype: float64"
      ]
     },
     "execution_count": 7,
     "metadata": {},
     "output_type": "execute_result"
    }
   ],
   "source": [
    "# Rings attritbute description\n",
    "dataset.Rings.describe()"
   ]
  },
  {
   "cell_type": "code",
   "execution_count": 8,
   "metadata": {},
   "outputs": [
    {
     "data": {
      "image/png": "[encoded data removed]",
      "text/plain": [
       "<Figure size 576x432 with 2 Axes>"
      ]
     },
     "metadata": {
      "needs_background": "light"
     },
     "output_type": "display_data"
    }
   ],
   "source": [
    "# Pairwise Analysis\n",
    "\n",
    "# correlation analysis\n",
    "corr = dataset.corr('spearman')\n",
    "mask = np.zeros_like(corr, dtype=np.bool)\n",
    "mask[np.triu_indices_from(mask)] = True\n",
    "f, ax = plt.subplots(figsize=(8, 6))\n",
    "cmap = sns.diverging_palette(220, 10, as_cmap=True)\n",
    "# heat map construction\n",
    "sns.heatmap(corr, mask=mask, vmax=1,square=True, \n",
    "            linewidths=.5, cbar_kws={\"shrink\": .5}, ax=ax, annot=True)\n",
    "plt.show()\n",
    "plt.close()"
   ]
  },
  {
   "cell_type": "code",
   "execution_count": 9,
   "metadata": {},
   "outputs": [
    {
     "data": {
      "text/html": [
       "<div>\n",
       "<style scoped>\n",
       "    .dataframe tbody tr th:only-of-type {\n",
       "        vertical-align: middle;\n",
       "    }\n",
       "\n",
       "    .dataframe tbody tr th {\n",
       "        vertical-align: top;\n",
       "    }\n",
       "\n",
       "    .dataframe thead th {\n",
       "        text-align: right;\n",
       "    }\n",
       "</style>\n",
       "<table border=\"1\" class=\"dataframe\">\n",
       "  <thead>\n",
       "    <tr style=\"text-align: right;\">\n",
       "      <th></th>\n",
       "      <th>Length</th>\n",
       "      <th>Diameter</th>\n",
       "      <th>Height</th>\n",
       "      <th>Whole weight</th>\n",
       "      <th>Shucked weight</th>\n",
       "      <th>Viscera weight</th>\n",
       "      <th>Shell weight</th>\n",
       "      <th>Rings</th>\n",
       "      <th>M</th>\n",
       "      <th>F</th>\n",
       "      <th>I</th>\n",
       "    </tr>\n",
       "  </thead>\n",
       "  <tbody>\n",
       "    <tr>\n",
       "      <th>0</th>\n",
       "      <td>0.455</td>\n",
       "      <td>0.365</td>\n",
       "      <td>0.095</td>\n",
       "      <td>0.5140</td>\n",
       "      <td>0.2245</td>\n",
       "      <td>0.1010</td>\n",
       "      <td>0.150</td>\n",
       "      <td>15</td>\n",
       "      <td>1.0</td>\n",
       "      <td>0.0</td>\n",
       "      <td>0.0</td>\n",
       "    </tr>\n",
       "    <tr>\n",
       "      <th>1</th>\n",
       "      <td>0.350</td>\n",
       "      <td>0.265</td>\n",
       "      <td>0.090</td>\n",
       "      <td>0.2255</td>\n",
       "      <td>0.0995</td>\n",
       "      <td>0.0485</td>\n",
       "      <td>0.070</td>\n",
       "      <td>7</td>\n",
       "      <td>1.0</td>\n",
       "      <td>0.0</td>\n",
       "      <td>0.0</td>\n",
       "    </tr>\n",
       "    <tr>\n",
       "      <th>2</th>\n",
       "      <td>0.530</td>\n",
       "      <td>0.420</td>\n",
       "      <td>0.135</td>\n",
       "      <td>0.6770</td>\n",
       "      <td>0.2565</td>\n",
       "      <td>0.1415</td>\n",
       "      <td>0.210</td>\n",
       "      <td>9</td>\n",
       "      <td>0.0</td>\n",
       "      <td>1.0</td>\n",
       "      <td>0.0</td>\n",
       "    </tr>\n",
       "    <tr>\n",
       "      <th>3</th>\n",
       "      <td>0.440</td>\n",
       "      <td>0.365</td>\n",
       "      <td>0.125</td>\n",
       "      <td>0.5160</td>\n",
       "      <td>0.2155</td>\n",
       "      <td>0.1140</td>\n",
       "      <td>0.155</td>\n",
       "      <td>10</td>\n",
       "      <td>1.0</td>\n",
       "      <td>0.0</td>\n",
       "      <td>0.0</td>\n",
       "    </tr>\n",
       "    <tr>\n",
       "      <th>4</th>\n",
       "      <td>0.330</td>\n",
       "      <td>0.255</td>\n",
       "      <td>0.080</td>\n",
       "      <td>0.2050</td>\n",
       "      <td>0.0895</td>\n",
       "      <td>0.0395</td>\n",
       "      <td>0.055</td>\n",
       "      <td>7</td>\n",
       "      <td>0.0</td>\n",
       "      <td>0.0</td>\n",
       "      <td>1.0</td>\n",
       "    </tr>\n",
       "  </tbody>\n",
       "</table>\n",
       "</div>"
      ],
      "text/plain": [
       "   Length  Diameter  Height  Whole weight  Shucked weight  Viscera weight  \\\n",
       "0   0.455     0.365   0.095        0.5140          0.2245          0.1010   \n",
       "1   0.350     0.265   0.090        0.2255          0.0995          0.0485   \n",
       "2   0.530     0.420   0.135        0.6770          0.2565          0.1415   \n",
       "3   0.440     0.365   0.125        0.5160          0.2155          0.1140   \n",
       "4   0.330     0.255   0.080        0.2050          0.0895          0.0395   \n",
       "\n",
       "   Shell weight  Rings    M    F    I  \n",
       "0         0.150     15  1.0  0.0  0.0  \n",
       "1         0.070      7  1.0  0.0  0.0  \n",
       "2         0.210      9  0.0  1.0  0.0  \n",
       "3         0.155     10  1.0  0.0  0.0  \n",
       "4         0.055      7  0.0  0.0  1.0  "
      ]
     },
     "execution_count": 9,
     "metadata": {},
     "output_type": "execute_result"
    }
   ],
   "source": [
    "#one-hot encoding for categorical gender variable\n",
    " \n",
    "Gender = dataset.pop('Sex')\n",
    " \n",
    "dataset['M'] = (Gender == 'M')*1.0\n",
    "dataset['F'] = (Gender == 'F')*1.0\n",
    "dataset['I'] = (Gender == 'I')*1.0\n",
    "dataset.head()"
   ]
  },
  {
   "cell_type": "code",
   "execution_count": 10,
   "metadata": {},
   "outputs": [],
   "source": [
    "# reorder the attributes\n",
    "dataset = dataset[['Length', 'Diameter', 'Height', 'Whole weight', 'Shucked weight','Viscera weight','Shell weight','M','F','I','Rings']]"
   ]
  },
  {
   "cell_type": "code",
   "execution_count": 11,
   "metadata": {},
   "outputs": [],
   "source": [
    "X = dataset.iloc[:,0:10]\n",
    "y = dataset.iloc[:,10].values"
   ]
  },
  {
   "cell_type": "code",
   "execution_count": 12,
   "metadata": {},
   "outputs": [],
   "source": [
    "# normalize the data using the min-max scalar\n",
    "\n",
    "scalar = MinMaxScaler()\n",
    "X = scalar.fit_transform(X)\n",
    "y = y.reshape(-1,1)\n",
    "y = scalar.fit_transform(y)"
   ]
  },
  {
   "cell_type": "code",
   "execution_count": 13,
   "metadata": {},
   "outputs": [],
   "source": [
    "#Split data into training and testing \n",
    " \n",
    "X_train, X_test, y_train, y_test = train_test_split(X, y, test_size=0.2)"
   ]
  },
  {
   "cell_type": "code",
   "execution_count": 14,
   "metadata": {},
   "outputs": [
    {
     "name": "stdout",
     "output_type": "stream",
     "text": [
      "Epoch 1/100\n",
      "535/535 [==============================] - 1s 2ms/step - loss: 0.0235 - mae: 0.1037 - mse: 0.0235 - val_loss: 0.0077 - val_mae: 0.0628 - val_mse: 0.0077\n",
      "Epoch 2/100\n",
      "535/535 [==============================] - 1s 2ms/step - loss: 0.0083 - mae: 0.0644 - mse: 0.0083 - val_loss: 0.0073 - val_mae: 0.0621 - val_mse: 0.0073\n",
      "Epoch 3/100\n",
      "535/535 [==============================] - 1s 2ms/step - loss: 0.0080 - mae: 0.0628 - mse: 0.0080 - val_loss: 0.0069 - val_mae: 0.0594 - val_mse: 0.0069\n",
      "Epoch 4/100\n",
      "535/535 [==============================] - 1s 2ms/step - loss: 0.0077 - mae: 0.0622 - mse: 0.0077 - val_loss: 0.0067 - val_mae: 0.0579 - val_mse: 0.0067\n",
      "Epoch 5/100\n",
      "535/535 [==============================] - 1s 2ms/step - loss: 0.0074 - mae: 0.0607 - mse: 0.0074 - val_loss: 0.0067 - val_mae: 0.0582 - val_mse: 0.0067\n",
      "Epoch 6/100\n",
      "535/535 [==============================] - 1s 2ms/step - loss: 0.0072 - mae: 0.0597 - mse: 0.0072 - val_loss: 0.0062 - val_mae: 0.0590 - val_mse: 0.0062\n",
      "Epoch 7/100\n",
      "535/535 [==============================] - 1s 2ms/step - loss: 0.0070 - mae: 0.0591 - mse: 0.0070 - val_loss: 0.0060 - val_mae: 0.0562 - val_mse: 0.0060\n",
      "Epoch 8/100\n",
      "535/535 [==============================] - 1s 2ms/step - loss: 0.0068 - mae: 0.0580 - mse: 0.0068 - val_loss: 0.0062 - val_mae: 0.0550 - val_mse: 0.0062\n",
      "Epoch 9/100\n",
      "535/535 [==============================] - 1s 2ms/step - loss: 0.0067 - mae: 0.0573 - mse: 0.0067 - val_loss: 0.0060 - val_mae: 0.0578 - val_mse: 0.0060\n",
      "Epoch 10/100\n",
      "535/535 [==============================] - 1s 2ms/step - loss: 0.0065 - mae: 0.0567 - mse: 0.0065 - val_loss: 0.0060 - val_mae: 0.0540 - val_mse: 0.0060\n",
      "Epoch 11/100\n",
      "535/535 [==============================] - 1s 2ms/step - loss: 0.0065 - mae: 0.0567 - mse: 0.0065 - val_loss: 0.0068 - val_mae: 0.0647 - val_mse: 0.0068\n",
      "Epoch 12/100\n",
      "535/535 [==============================] - 1s 2ms/step - loss: 0.0065 - mae: 0.0569 - mse: 0.0065 - val_loss: 0.0059 - val_mae: 0.0562 - val_mse: 0.0059\n",
      "Epoch 13/100\n",
      "535/535 [==============================] - 1s 2ms/step - loss: 0.0064 - mae: 0.0565 - mse: 0.0064 - val_loss: 0.0062 - val_mae: 0.0593 - val_mse: 0.0062\n",
      "Epoch 14/100\n",
      "535/535 [==============================] - 1s 2ms/step - loss: 0.0064 - mae: 0.0559 - mse: 0.0064 - val_loss: 0.0067 - val_mae: 0.0628 - val_mse: 0.0067\n",
      "Epoch 15/100\n",
      "535/535 [==============================] - 1s 3ms/step - loss: 0.0064 - mae: 0.0558 - mse: 0.0064 - val_loss: 0.0062 - val_mae: 0.0587 - val_mse: 0.0062\n",
      "Epoch 16/100\n",
      "535/535 [==============================] - 1s 2ms/step - loss: 0.0064 - mae: 0.0561 - mse: 0.0064 - val_loss: 0.0058 - val_mae: 0.0553 - val_mse: 0.0058\n",
      "Epoch 17/100\n",
      "535/535 [==============================] - 1s 3ms/step - loss: 0.0064 - mae: 0.0565 - mse: 0.0064 - val_loss: 0.0059 - val_mae: 0.0534 - val_mse: 0.0059\n",
      "Epoch 18/100\n",
      "535/535 [==============================] - 1s 2ms/step - loss: 0.0064 - mae: 0.0563 - mse: 0.0064 - val_loss: 0.0059 - val_mae: 0.0556 - val_mse: 0.0059\n",
      "Epoch 19/100\n",
      "535/535 [==============================] - 1s 2ms/step - loss: 0.0063 - mae: 0.0560 - mse: 0.0063 - val_loss: 0.0062 - val_mae: 0.0601 - val_mse: 0.0062\n",
      "Epoch 20/100\n",
      "535/535 [==============================] - 1s 2ms/step - loss: 0.0063 - mae: 0.0557 - mse: 0.0063 - val_loss: 0.0059 - val_mae: 0.0537 - val_mse: 0.0059\n",
      "Epoch 21/100\n",
      "535/535 [==============================] - 1s 2ms/step - loss: 0.0061 - mae: 0.0550 - mse: 0.0061 - val_loss: 0.0068 - val_mae: 0.0570 - val_mse: 0.0068\n",
      "Epoch 22/100\n",
      "535/535 [==============================] - 1s 2ms/step - loss: 0.0062 - mae: 0.0554 - mse: 0.0062 - val_loss: 0.0059 - val_mae: 0.0545 - val_mse: 0.0059\n",
      "Epoch 23/100\n",
      "535/535 [==============================] - 1s 2ms/step - loss: 0.0062 - mae: 0.0556 - mse: 0.0062 - val_loss: 0.0061 - val_mae: 0.0545 - val_mse: 0.0061\n",
      "Epoch 24/100\n",
      "535/535 [==============================] - 1s 3ms/step - loss: 0.0061 - mae: 0.0546 - mse: 0.0061 - val_loss: 0.0058 - val_mae: 0.0555 - val_mse: 0.0058\n",
      "Epoch 25/100\n",
      "535/535 [==============================] - 2s 3ms/step - loss: 0.0062 - mae: 0.0556 - mse: 0.0062 - val_loss: 0.0062 - val_mae: 0.0539 - val_mse: 0.0062\n",
      "Epoch 26/100\n",
      "535/535 [==============================] - 2s 5ms/step - loss: 0.0061 - mae: 0.0544 - mse: 0.0061 - val_loss: 0.0058 - val_mae: 0.0537 - val_mse: 0.0058loss: 0.0059 - ma\n",
      "Epoch 27/100\n",
      "535/535 [==============================] - 1s 3ms/step - loss: 0.0061 - mae: 0.0546 - mse: 0.0061 - val_loss: 0.0057 - val_mae: 0.0535 - val_mse: 0.0057\n",
      "Epoch 28/100\n",
      "535/535 [==============================] - 2s 3ms/step - loss: 0.0061 - mae: 0.0554 - mse: 0.0061 - val_loss: 0.0061 - val_mae: 0.0587 - val_mse: 0.0061\n",
      "Epoch 29/100\n",
      "535/535 [==============================] - 3s 6ms/step - loss: 0.0061 - mae: 0.0544 - mse: 0.0061 - val_loss: 0.0058 - val_mae: 0.0560 - val_mse: 0.0058\n",
      "Epoch 30/100\n",
      "535/535 [==============================] - 4s 7ms/step - loss: 0.0061 - mae: 0.0549 - mse: 0.0061 - val_loss: 0.0061 - val_mae: 0.0574 - val_mse: 0.0061\n",
      "Epoch 31/100\n",
      "535/535 [==============================] - 3s 6ms/step - loss: 0.0061 - mae: 0.0549 - mse: 0.0061 - val_loss: 0.0060 - val_mae: 0.0553 - val_mse: 0.0060\n",
      "Epoch 32/100\n",
      "535/535 [==============================] - 4s 7ms/step - loss: 0.0061 - mae: 0.0547 - mse: 0.0061 - val_loss: 0.0059 - val_mae: 0.0547 - val_mse: 0.0059\n",
      "Epoch 33/100\n",
      "535/535 [==============================] - 2s 4ms/step - loss: 0.0061 - mae: 0.0548 - mse: 0.0061 - val_loss: 0.0059 - val_mae: 0.0534 - val_mse: 0.0059\n",
      "Epoch 34/100\n",
      "535/535 [==============================] - 2s 3ms/step - loss: 0.0060 - mae: 0.0545 - mse: 0.0060 - val_loss: 0.0058 - val_mae: 0.0545 - val_mse: 0.0058\n",
      "Epoch 35/100\n",
      "535/535 [==============================] - 2s 3ms/step - loss: 0.0060 - mae: 0.0544 - mse: 0.0060 - val_loss: 0.0058 - val_mae: 0.0535 - val_mse: 0.0058\n",
      "Epoch 36/100\n",
      "535/535 [==============================] - 1s 2ms/step - loss: 0.0061 - mae: 0.0546 - mse: 0.0061 - val_loss: 0.0058 - val_mae: 0.0540 - val_mse: 0.0058\n",
      "Epoch 37/100\n",
      "535/535 [==============================] - 1s 3ms/step - loss: 0.0060 - mae: 0.0543 - mse: 0.0060 - val_loss: 0.0061 - val_mae: 0.0567 - val_mse: 0.0061\n",
      "Model: \"sequential\"\n",
      "_________________________________________________________________\n",
      "Layer (type)                 Output Shape              Param #   \n",
      "=================================================================\n",
      "dense (Dense)                (None, 10)                110       \n",
      "_________________________________________________________________\n",
      "dense_1 (Dense)              (None, 6)                 66        \n",
      "_________________________________________________________________\n",
      "dense_2 (Dense)              (None, 6)                 42        \n",
      "_________________________________________________________________\n",
      "dense_3 (Dense)              (None, 1)                 7         \n",
      "=================================================================\n",
      "Total params: 225\n",
      "Trainable params: 225\n",
      "Non-trainable params: 0\n",
      "_________________________________________________________________\n"
     ]
    }
   ],
   "source": [
    "# Model construction \n",
    "\n",
    "model = Sequential()\n",
    "model.add(Dense(units=10, input_dim=10, activation='relu'))\n",
    "model.add(Dense(6, activation='relu'))\n",
    "model.add(Dense(6, activation='relu'))\n",
    "model.add(Dense(units=1,activation='linear'))\n",
    "model.compile(optimizer='adam', loss='mean_squared_error',  metrics=['mae','mse'])\n",
    " \n",
    "early_stop = keras.callbacks.EarlyStopping(monitor='val_loss', patience=10)\n",
    " \n",
    "history = model.fit(X_train,y_train,batch_size=5, validation_split = 0.2, callbacks=[early_stop], epochs=100)\n",
    " \n",
    "# Model summary for number of parameters use in the algorithm\n",
    "model.summary()"
   ]
  },
  {
   "cell_type": "code",
   "execution_count": 15,
   "metadata": {},
   "outputs": [
    {
     "data": {
      "image/png": "[encoded data removed]",
      "text/plain": [
       "<Figure size 432x288 with 1 Axes>"
      ]
     },
     "metadata": {
      "needs_background": "light"
     },
     "output_type": "display_data"
    }
   ],
   "source": [
    "# plot the history \n",
    "\n",
    "hist = pd.DataFrame(history.history)\n",
    "hist['epoch'] = history.epoch\n",
    "\n",
    "plt.figure()\n",
    "plt.xlabel('Epoch')\n",
    "plt.ylabel('Mean Square Error [$Rings^2$]')\n",
    "plt.plot(hist['epoch'], hist['loss'],\n",
    "           label='Train Error')\n",
    "plt.plot(hist['epoch'], hist['val_loss'],\n",
    "           label = 'Val Error')\n",
    "plt.legend()\n",
    "plt.show()"
   ]
  },
  {
   "cell_type": "markdown",
   "metadata": {},
   "source": [
    "Training stoped at 36th epoch, because monitored metric (validation loss) has stopped improving."
   ]
  },
  {
   "cell_type": "code",
   "execution_count": 16,
   "metadata": {},
   "outputs": [
    {
     "name": "stdout",
     "output_type": "stream",
     "text": [
      "27/27 [==============================] - 0s 2ms/step - loss: 0.0060 - mae: 0.0575 - mse: 0.0060\n",
      "\n",
      "mae: 0.06\n"
     ]
    }
   ],
   "source": [
    "# model evaluation \n",
    "\n",
    "scores = model.evaluate(X_test, y_test)\n",
    "print(\"\\n%s: %.2f\" %(model.metrics_names[1], scores[1]))"
   ]
  },
  {
   "cell_type": "code",
   "execution_count": 17,
   "metadata": {},
   "outputs": [],
   "source": [
    "# predict testing labels\n",
    " \n",
    "y_pred = model.predict(X_test)\n",
    " \n",
    "# undo normalization \n",
    " \n",
    "y_pred_transformed=scalar.inverse_transform(y_pred.reshape(-1,1))\n",
    "y_test_transformed=scalar.inverse_transform(y_test)"
   ]
  },
  {
   "cell_type": "code",
   "execution_count": 18,
   "metadata": {},
   "outputs": [
    {
     "data": {
      "image/png": "[encoded data removed]",
      "text/plain": [
       "<Figure size 432x288 with 1 Axes>"
      ]
     },
     "metadata": {
      "needs_background": "light"
     },
     "output_type": "display_data"
    }
   ],
   "source": [
    "#visualize performance\n",
    "\n",
    "fig, ax = plt.subplots()\n",
    "ax.scatter(y_test_transformed, y_pred_transformed)\n",
    "ax.plot([y_test_transformed.min(), y_test_transformed.max()], [y_test_transformed.min(), y_test_transformed.max()], 'k--', lw=4)\n",
    "ax.set_xlabel('Measured (Rings)')\n",
    "ax.set_ylabel('Predicted (Rings)')\n",
    "plt.show()\n",
    " \n",
    "#Calculate RMSE and R^2\n",
    "\n",
    "from sklearn.metrics import mean_squared_error\n",
    "from math import sqrt\n",
    "rms = sqrt(mean_squared_error(y_test_transformed, y_pred_transformed))\n",
    " \n",
    "from sklearn.metrics import r2_score\n",
    "r_squared=r2_score(y_test_transformed,y_pred_transformed)"
   ]
  },
  {
   "cell_type": "markdown",
   "metadata": {},
   "source": [
    "The performance is not very good and more feature engineering is needed to improve the quality of the data, but also fine-tuning the neural network hyperparameters and adding features to the dataset can be used to improve performance."
   ]
  },
  {
   "cell_type": "code",
   "execution_count": 19,
   "metadata": {},
   "outputs": [],
   "source": [
    "# save the model\n",
    "model.save('abalone.h5')"
   ]
  }
 ],
 "metadata": {
  "kernelspec": {
   "display_name": "Python 3",
   "language": "python",
   "name": "python3"
  },
  "language_info": {
   "codemirror_mode": {
    "name": "ipython",
    "version": 3
   },
   "file_extension": ".py",
   "mimetype": "text/x-python",
   "name": "python",
   "nbconvert_exporter": "python",
   "pygments_lexer": "ipython3",
   "version": "3.6.10"
  }
 },
 "nbformat": 4,
 "nbformat_minor": 4
}